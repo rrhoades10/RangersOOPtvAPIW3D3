{
 "cells": [
  {
   "cell_type": "markdown",
   "metadata": {},
   "source": [
    " <h1 align = center> Principles of Object Oriented Programming </h1>"
   ]
  },
  {
   "cell_type": "markdown",
   "metadata": {},
   "source": [
    "#### 4 principles\n",
    "- Encapsulation\n",
    "- Inheritance\n",
    "- Polymorphism\n",
    "- Abstraction\n"
   ]
  },
  {
   "cell_type": "markdown",
   "metadata": {},
   "source": [
    "## ENCAPSULATION"
   ]
  },
  {
   "cell_type": "markdown",
   "metadata": {},
   "source": [
    "In encapsulation, the variables of a class can be made hidden from other classes, and can be accessed only through the methods of their current class. Therefore, it is also known as data hiding.\n",
    "<br><br>\n",
    "Encapsulation can be described as a protective barrier that prevents the code and data being randomly accessed by other code defined outside the class. Access to the data and code is tightly controlled by a class."
   ]
  },
  {
   "cell_type": "code",
   "execution_count": 21,
   "metadata": {},
   "outputs": [],
   "source": [
    "from datetime import timedelta, date\n",
    "from IPython.display import Image\n",
    "import requests\n",
    "from time import sleep\n",
    "\n",
    "generic_image = 'codeflix.png'"
   ]
  },
  {
   "cell_type": "code",
   "execution_count": 8,
   "metadata": {},
   "outputs": [],
   "source": [
    "class TestVideo():\n",
    "    def __init__(self):\n",
    "        self.title = None\n",
    "\n",
    "    def add_title(self):\n",
    "        new_title = input(\"What are you watching? \")\n",
    "        print(f\"You are currently watching: {self.title}, now you're watching {new_title}\")\n",
    "        self.title = new_title\n",
    "        # self.display_title()\n",
    "\n",
    "    def display_title(self):\n",
    "        print(f\"You are watching: {self.title}\")\n",
    "\n",
    "    \n",
    "\n",
    "\n",
    "my_video = TestVideo()\n",
    "# Not a good practice\n",
    "# my_video.title = \"New Video Title\"\n",
    "\n"
   ]
  },
  {
   "cell_type": "code",
   "execution_count": 9,
   "metadata": {},
   "outputs": [
    {
     "name": "stdin",
     "output_type": "stream",
     "text": [
      "What are you watching?  Tacoma Fd\n"
     ]
    },
    {
     "name": "stdout",
     "output_type": "stream",
     "text": [
      "You are currently watching: None, now you're watching Tacoma Fd\n"
     ]
    }
   ],
   "source": [
    "my_video.add_title()"
   ]
  },
  {
   "cell_type": "code",
   "execution_count": 10,
   "metadata": {
    "scrolled": true
   },
   "outputs": [
    {
     "name": "stdin",
     "output_type": "stream",
     "text": [
      "What are you watching?  Scrubs\n"
     ]
    },
    {
     "name": "stdout",
     "output_type": "stream",
     "text": [
      "You are currently watching: Tacoma Fd, now you're watching Scrubs\n"
     ]
    }
   ],
   "source": [
    "my_video.add_title()"
   ]
  },
  {
   "cell_type": "code",
   "execution_count": 28,
   "metadata": {},
   "outputs": [],
   "source": [
    "# attributes from instances are unique to that instance\n",
    "# attributes are \"protected\" by the class itself and can have further protection at various levels based on access modifiers\n",
    "class Video:\n",
    "    def __init__(self):\n",
    "        self.title = None\n",
    "        self.length = timedelta()\n",
    "        self.link = generic_image\n",
    "\n",
    "    def play(self):\n",
    "        print(f\"Now playing {self.title}\")\n",
    "        display(Image(url=self.link))\n",
    "\n",
    "    def __len__(self):\n",
    "        return self.length\n",
    "\n",
    "    def __repr__(self):\n",
    "        return f\"{self.title} is {self.length.seconds} seconds long\"\n",
    "    \n",
    "\n"
   ]
  },
  {
   "cell_type": "markdown",
   "metadata": {},
   "source": [
    "## INHERITANCE"
   ]
  },
  {
   "cell_type": "markdown",
   "metadata": {},
   "source": [
    "Inheritance can be defined as the process where one class acquires the properties (methods and fields) of another.\n",
    "<br>\n",
    "<i>(see above)</i>"
   ]
  },
  {
   "cell_type": "code",
   "execution_count": 29,
   "metadata": {},
   "outputs": [],
   "source": [
    "# Episode inherits from Video class\n",
    "class Episode(Video):\n",
    "    def __init__(self, data):\n",
    "        super().__init__()\n",
    "        self.number = data['number']\n",
    "        self.season = data['season']\n",
    "        self.date_aired = data['airdate']\n",
    "        self.summary = data['summary']\n",
    "        self.rating = data['rating']['average']\n",
    "        self.title = data['name']\n",
    "        self.length = timedelta(minutes = data['runtime'])\n",
    "        if data['image']:\n",
    "            self.link = data['image']['medium'] "
   ]
  },
  {
   "cell_type": "markdown",
   "metadata": {},
   "source": [
    "## POLYMORPHISM"
   ]
  },
  {
   "cell_type": "markdown",
   "metadata": {},
   "source": [
    "In object-oriented programming, polymorphism (from the Greek meaning “having multiple forms”) is the characteristic of being able to assign a different meaning or usage to something in different contexts — specifically, to allow an entity such as a function, or an object to have more than one form.\n",
    "<br><br>\n"
   ]
  },
  {
   "cell_type": "code",
   "execution_count": 58,
   "metadata": {},
   "outputs": [],
   "source": [
    "class Series():\n",
    "    def __init__(self):\n",
    "        self.id = None\n",
    "        self.network = None\n",
    "        self.seasons = None\n",
    "        self.summary = None\n",
    "        self.title = None\n",
    "        self.genres = []\n",
    "        self.episodes = []\n",
    "\n",
    "    def get_info(self, query=\"\"):\n",
    "        data = None #<-- in case we cant find the showe we're looking for\n",
    "        while not data: # loop as long as we dont find and set data from a series\n",
    "            if not query: #if we dont pass a query argument \n",
    "                query = input(\"What is the name of the series? \")\n",
    "\n",
    "            r = requests.get(f\"https://api.tvmaze.com/singlesearch/shows?q={query}\")\n",
    "            if r.status_code == 200:\n",
    "                data = r.json()\n",
    "\n",
    "            else:\n",
    "                print(f\"Series Error: status_code {r.status_code}\")\n",
    "\n",
    "\n",
    "        # using data to set our attributes\n",
    "        self.id = data['id']\n",
    "        self.title = data['name']\n",
    "        self.genres = data['genres']\n",
    "        self.summary = data['summary']\n",
    "        if data['network']:\n",
    "            self.network = data['network']['name']\n",
    "        else:\n",
    "            self.network = data['webChannel']['name']\n",
    "\n",
    "\n",
    "        # Api call for episodes\n",
    "        r = requests.get(f\"https://api.tvmaze.com/shows/{self.id}/episodes\")\n",
    "        if r.status_code == 200:\n",
    "            episode_data = r.json()\n",
    "        else:\n",
    "            print(f\"Episode Error: Status Code {r.status_code}\")\n",
    "\n",
    "        self.seasons = episode_data[-1]['season'] #last dictionary in the episode list, which is also the last season\n",
    "        self.episodes = [Episode(ep) for ep in episode_data] #another class as an attribute - object composition\n",
    "        print(f\"{self.title} has {len(self.episodes)} episodes\")\n",
    "\n",
    "\n",
    "    def watch(self):\n",
    "        for i in range(len(self.episodes)):\n",
    "            if i > 0 and i % 3 == 0:\n",
    "                watching = input(\"Are you still watching? \")\n",
    "                if watching.lower().strip() not in ('yes', 'y'):\n",
    "                    break\n",
    "            self.episodes[i].play()\n",
    "            sleep(self.episodes[i].length.seconds/1000)\n",
    "\n",
    "\n",
    "    def __len__(self):\n",
    "        return len(self.episodes)\n",
    "\n",
    "\n",
    "    def __repr__(self):\n",
    "         return f\"Title: {self.title}\"\n"
   ]
  },
  {
   "cell_type": "code",
   "execution_count": 31,
   "metadata": {},
   "outputs": [],
   "source": [
    "first_show = Series()"
   ]
  },
  {
   "cell_type": "code",
   "execution_count": 36,
   "metadata": {},
   "outputs": [
    {
     "name": "stdin",
     "output_type": "stream",
     "text": [
      "What is the name of the series?  scrubs\n"
     ]
    },
    {
     "name": "stdout",
     "output_type": "stream",
     "text": [
      "Scrubs has 182 episodes\n"
     ]
    }
   ],
   "source": [
    "first_show.get_info()"
   ]
  },
  {
   "cell_type": "code",
   "execution_count": 37,
   "metadata": {
    "scrolled": true
   },
   "outputs": [
    {
     "name": "stdout",
     "output_type": "stream",
     "text": [
      "Now playing My First Day\n"
     ]
    },
    {
     "data": {
      "text/html": [
       "<img src=\"https://static.tvmaze.com/uploads/images/medium_landscape/193/483595.jpg\"/>"
      ],
      "text/plain": [
       "<IPython.core.display.Image object>"
      ]
     },
     "metadata": {},
     "output_type": "display_data"
    },
    {
     "name": "stdout",
     "output_type": "stream",
     "text": [
      "Now playing My Mentor\n"
     ]
    },
    {
     "data": {
      "text/html": [
       "<img src=\"https://static.tvmaze.com/uploads/images/medium_landscape/193/483596.jpg\"/>"
      ],
      "text/plain": [
       "<IPython.core.display.Image object>"
      ]
     },
     "metadata": {},
     "output_type": "display_data"
    },
    {
     "name": "stdout",
     "output_type": "stream",
     "text": [
      "Now playing My Best Friend's Mistake\n"
     ]
    },
    {
     "data": {
      "text/html": [
       "<img src=\"https://static.tvmaze.com/uploads/images/medium_landscape/193/483597.jpg\"/>"
      ],
      "text/plain": [
       "<IPython.core.display.Image object>"
      ]
     },
     "metadata": {},
     "output_type": "display_data"
    },
    {
     "name": "stdin",
     "output_type": "stream",
     "text": [
      "Are you still watching?  no\n"
     ]
    }
   ],
   "source": [
    "first_show.watch()\n"
   ]
  },
  {
   "cell_type": "code",
   "execution_count": 59,
   "metadata": {},
   "outputs": [],
   "source": [
    "class User:\n",
    "    __id_counter = 1 # class attribute, only the class itself is going to interact with\n",
    "\n",
    "    def __init__(self, username, password):\n",
    "        self.username = username\n",
    "        self.password = password[::-2]\n",
    "        self.id = User.__id_counter\n",
    "        User.__id_counter += 1\n",
    "        self.watch_list = []\n",
    "\n",
    "    def __str__(self):\n",
    "        formatted_user = f\"\"\"\n",
    "        {self.id} - {self.username.title()}\n",
    "        pw: {self.password}\n",
    "        \"\"\"\n",
    "        return formatted_user\n",
    "\n",
    "    def __repr__(self):\n",
    "        return f\"<User {self.id} | {self.username}\"\n",
    "\n",
    "    def check_password(self, password_guess):\n",
    "        return self.password == password_guess[::-2]\n"
   ]
  },
  {
   "cell_type": "markdown",
   "metadata": {},
   "source": [
    "## ABSTRACTION"
   ]
  },
  {
   "cell_type": "markdown",
   "metadata": {},
   "source": [
    "Abstraction is a process of hiding the implementation details from the user, only the functionality will be provided to the user. We have a bit to do before this becomes visible. But you've seen it before with presenting the user with the option to enter inputs. We then take those input and do something with them.\n",
    "<br><br>"
   ]
  },
  {
   "cell_type": "code",
   "execution_count": 60,
   "metadata": {},
   "outputs": [],
   "source": [
    "from datetime import timedelta, date\n",
    "from IPython.display import Image\n",
    "import requests\n",
    "from time import sleep\n",
    "\n",
    "generic_image = 'codeflix.png'\n",
    "\n",
    "class Theater():\n",
    "\n",
    "    def __init__(self):\n",
    "        self.users = set()\n",
    "        self.current_user = None\n",
    "\n",
    "\n",
    "    # add a user to our collection of users\n",
    "    def add_user(self):\n",
    "        username = input(\"Please enter a username: \")\n",
    "        if username in {u.username for u in self.users}:\n",
    "            print(\"User with that name already exists. Please try again!\") #409, conflict in requests\n",
    "\n",
    "        else:\n",
    "            password = input(\"Please enter your password. \")\n",
    "            user = User(username, password)\n",
    "            self.users.add(user)\n",
    "            print(f\"{user} has been created!!\")\n",
    "\n",
    "        self.login_user()\n",
    "\n",
    "    # choose a user, login\n",
    "    def login_user(self):\n",
    "        username = input(\"What is your username? \")\n",
    "        password = input(\"What is your password? \")\n",
    "\n",
    "        for user in self.users:\n",
    "            if user.username == username and user.check_password(password):\n",
    "                self.current_user = user\n",
    "                print(f\"{user} has logged in!\")\n",
    "                break\n",
    "\n",
    "        else:\n",
    "            print(\"Username and/or password is incorrect\")\n",
    "\n",
    "    def logout(self):\n",
    "        self.current_user = None\n",
    "        print(\"You have succesfully logged out!\")\n",
    "\n",
    "    # update user information\n",
    "    def update_user(self):\n",
    "        # check if we even have a current user\n",
    "        if self.current_user:\n",
    "            print(self.current_user)\n",
    "            new_user = input(\"Please enter the updated username or enter skip to keep your current username. \")\n",
    "            if new_user.lower() != \"skip\":\n",
    "                # referencing the current user object, specifically the username attribute\n",
    "                self.current_user.username = new_user\n",
    "            new_pw = input(\"Please enter the updated password or enter skip to keep current password. \")\n",
    "            if new_pw.lower() != \"skip\":\n",
    "                # referencing the current user object, specifically the password attribute\n",
    "                self.current_user.password = new_pw\n",
    "\n",
    "            print(f\"{self.current_user.username}'s info has been updated!\")\n",
    "\n",
    "        else:\n",
    "            print(\"Please login to update information.\")\n",
    "            self.login_user()\n",
    "\n",
    "\n",
    "    # --------------------- interacting with the watchlist on the User ---------------------------------\n",
    "\n",
    "    # add to watchlist\n",
    "    def add_to_watchlist(self, query=''):\n",
    "        # instatiates the Series class\n",
    "        show = Series()\n",
    "        show.get_info(query)\n",
    "        # add our show (instance of the Series class) to the current_user object's watchlist attribute\n",
    "        self.current_user.watch_list.append(show)\n",
    "\n",
    "        print(f\"{show.title} has been added to the watchlist!\")\n",
    "\n",
    "    # view watchlist\n",
    "    def view_watchlist(self):\n",
    "        for series in self.current_user.watch_list:\n",
    "            print(f\"\\n\\n{series} | Episodes: {len(series)}\")\n",
    "            print(f\"\\nSummary: \\n {series.summary}\")\n",
    "            #                 instance of Series, episodes attribute, first episdoe, link attribute from that first episode object\n",
    "            display(Image(url=series.episodes[0].link))\n",
    "\n",
    "    # delete from watchlist\n",
    "    def delete(self):\n",
    "        print(\"Your current watch list: \")\n",
    "        self.view_watchlist()\n",
    "\n",
    "        response = input(\"What would you like to remove from your watch list? \")\n",
    "        for series in self.current_user.watch_list:\n",
    "            # Series instance.title attribute. title method that capitalizes the first letter of the string. \n",
    "            if series.title.title() == response.title():\n",
    "                self.current_user.watch_list.remove(series)\n",
    "                print(f\"{response.title()} has been removed from your watch list!\")\n",
    "                break\n",
    "        else:\n",
    "            print(\"That title is not in your watch list! \") # 404 not found\n",
    "\n",
    "        self.view_watchlist()\n",
    "\n",
    "    # choose from watchlist\n",
    "    def choose_from_watchlist(self):\n",
    "        self.view_watchlist()\n",
    "\n",
    "        watch = input(\"What would you like to watch? \")\n",
    "        for series in self.current_user.watch_list:\n",
    "            if series.title.lower() == watch.lower().strip():\n",
    "                series.watch()\n",
    "                break\n",
    "\n",
    "        else:\n",
    "            response = input(f\"{watch} is not in your watch list... would you like to add it.... y/n?\")\n",
    "            if response in ('yes', 'y'):\n",
    "                self.add_to_watchlist(watch)\n",
    "                print(\".........\")\n",
    "                sleep(2)\n",
    "                print(\".........\")\n",
    "                self.current_user.watch_list[-1].watch()\n",
    "\n",
    "\n",
    "    # run function to drive the program\n",
    "    def run(self):\n",
    "        \"\"\"\n",
    "        Method allowing users to sign in, choose a series, and play episodes\n",
    "        \"\"\"\n",
    "        display(Image(url=generic_image))\n",
    "\n",
    "        if self.users:\n",
    "            self.choose_user()\n",
    "        else:\n",
    "            self.add_user()\n",
    "\n",
    "            print(\"\"\"\n",
    "            What would you like to do?\n",
    "            Add- add a new user\n",
    "            Login - login to a your profile\n",
    "            Update - update user info\n",
    "            Logout - logout of your profile\n",
    "            Search - Search for shows\n",
    "            Watch - Pick something from your watchlist\n",
    "            View - View watch list\n",
    "            Delete - Delete from watch list\n",
    "            Quit - Close the application           \n",
    "            \n",
    "            \n",
    "            \"\"\")\n",
    "\n",
    "        while True:\n",
    "            response = input(\"What would you like to do? (add, update, login, logout, search, watch, view, delete, quit) \")\n",
    "            \n",
    "            if response.lower() == \"search\":\n",
    "                self.add_to_watchlist()\n",
    "            elif response.lower() == \"watch\":\n",
    "                self.choose_from_watchlist()\n",
    "            elif response.lower() == \"add\":\n",
    "                self.add_user()\n",
    "            elif response.lower() == 'logout':\n",
    "                self.logout()\n",
    "                new_response = input(\"What would you like to do next? login, add, quit\")\n",
    "                if new_response.lower() == 'add':\n",
    "                    self.add_user()\n",
    "                elif new_response.lower() == 'login':\n",
    "                    self.login_user()\n",
    "                elif new_response.lower() == 'quit':\n",
    "                    print(\"Thanks for watching!\")\n",
    "                    break\n",
    "                else:\n",
    "                    print(\"Please enter a valid response and try again!\")\n",
    "            elif response.lower() == 'login':\n",
    "                self.login_user()\n",
    "            elif response.lower() == \"update\":\n",
    "                self.update_user()\n",
    "                    \n",
    "                    \n",
    "            \n",
    "            elif response.lower() == \"view\":\n",
    "                self.view_watchlist()\n",
    "            elif response.lower() == \"delete\":\n",
    "                self.delete()\n",
    "            elif response.lower() == \"quit\":\n",
    "                print(f\"Thanks for watching! {self.current_user}! Now go outside!\")\n",
    "                break\n",
    "            else:\n",
    "                print(\"Invalid Input: please choose from the list!\")\n",
    "        \n",
    "            \n",
    "\n",
    "            \n",
    "    \n",
    "    \n",
    "            \n",
    "        \n",
    "\n",
    "        \n",
    "\n",
    "        "
   ]
  },
  {
   "cell_type": "code",
   "execution_count": 42,
   "metadata": {},
   "outputs": [
    {
     "name": "stdout",
     "output_type": "stream",
     "text": [
      "Ryan\n"
     ]
    }
   ],
   "source": []
  },
  {
   "cell_type": "code",
   "execution_count": 61,
   "metadata": {},
   "outputs": [],
   "source": [
    "codeflix = Theater()"
   ]
  },
  {
   "cell_type": "code",
   "execution_count": null,
   "metadata": {},
   "outputs": [
    {
     "data": {
      "text/html": [
       "<img src=\"codeflix.png\"/>"
      ],
      "text/plain": [
       "<IPython.core.display.Image object>"
      ]
     },
     "metadata": {},
     "output_type": "display_data"
    },
    {
     "name": "stdin",
     "output_type": "stream",
     "text": [
      "Please enter a username:  rhoadehouse\n",
      "Please enter your password.  123\n"
     ]
    },
    {
     "name": "stdout",
     "output_type": "stream",
     "text": [
      "\n",
      "        1 - Rhoadehouse\n",
      "        pw: 31\n",
      "         has been created!!\n"
     ]
    },
    {
     "name": "stdin",
     "output_type": "stream",
     "text": [
      "What is your username?  rhoadehouse\n",
      "What is your password?  123\n"
     ]
    },
    {
     "name": "stdout",
     "output_type": "stream",
     "text": [
      "\n",
      "        1 - Rhoadehouse\n",
      "        pw: 31\n",
      "         has logged in!\n",
      "\n",
      "            What would you like to do?\n",
      "            Add- add a new user\n",
      "            Login - login to a your profile\n",
      "            Update - update user info\n",
      "            Logout - logout of your profile\n",
      "            Search - Search for shows\n",
      "            Watch - Pick something from your watchlist\n",
      "            View - View watch list\n",
      "            Delete - Delete from watch list\n",
      "            Quit - Close the application           \n",
      "            \n",
      "            \n",
      "            \n"
     ]
    },
    {
     "name": "stdin",
     "output_type": "stream",
     "text": [
      "What would you like to do? (add, update, login, logout, search, watch, view, delete, quit)  search\n",
      "What is the name of the series?  ted lasso\n"
     ]
    },
    {
     "name": "stdout",
     "output_type": "stream",
     "text": [
      "Ted Lasso has 34 episodes\n",
      "Ted Lasso has been added to the watchlist!\n"
     ]
    },
    {
     "name": "stdin",
     "output_type": "stream",
     "text": [
      "What would you like to do? (add, update, login, logout, search, watch, view, delete, quit)  view\n"
     ]
    },
    {
     "name": "stdout",
     "output_type": "stream",
     "text": [
      "\n",
      "\n",
      "Title: Ted Lasso | Episodes: 34\n",
      "\n",
      "Summary: \n",
      " <p><b>Ted Lasso </b>centers on an idealistic — and clueless — all-American football coach hired to manage an English football club — despite having no soccer coaching experience at all.</p>\n"
     ]
    },
    {
     "data": {
      "text/html": [
       "<img src=\"https://static.tvmaze.com/uploads/images/medium_landscape/342/856397.jpg\"/>"
      ],
      "text/plain": [
       "<IPython.core.display.Image object>"
      ]
     },
     "metadata": {},
     "output_type": "display_data"
    },
    {
     "name": "stdin",
     "output_type": "stream",
     "text": [
      "What would you like to do? (add, update, login, logout, search, watch, view, delete, quit)  search\n",
      "What is the name of the series?  pokemon\n"
     ]
    },
    {
     "name": "stdout",
     "output_type": "stream",
     "text": [
      "Pokémon has 1259 episodes\n",
      "Pokémon has been added to the watchlist!\n"
     ]
    },
    {
     "name": "stdin",
     "output_type": "stream",
     "text": [
      "What would you like to do? (add, update, login, logout, search, watch, view, delete, quit)  watch\n"
     ]
    },
    {
     "name": "stdout",
     "output_type": "stream",
     "text": [
      "\n",
      "\n",
      "Title: Ted Lasso | Episodes: 34\n",
      "\n",
      "Summary: \n",
      " <p><b>Ted Lasso </b>centers on an idealistic — and clueless — all-American football coach hired to manage an English football club — despite having no soccer coaching experience at all.</p>\n"
     ]
    },
    {
     "data": {
      "text/html": [
       "<img src=\"https://static.tvmaze.com/uploads/images/medium_landscape/342/856397.jpg\"/>"
      ],
      "text/plain": [
       "<IPython.core.display.Image object>"
      ]
     },
     "metadata": {},
     "output_type": "display_data"
    },
    {
     "name": "stdout",
     "output_type": "stream",
     "text": [
      "\n",
      "\n",
      "Title: Pokémon | Episodes: 1259\n",
      "\n",
      "Summary: \n",
      " <p>The great adventures of 10 year old Ash Ketchum, a young <b>Pokémon</b> Trainer from Pallet Town, as well as his best friend and everlasting companion Pikachu. Together, they venture through many regions: the traditional region of Kanto, the culturally rich Johto, the temperate region of Hoenn, the mystical region of Sinnoh, the advanced landscapes of Unova, Kalos, with it's many landmarks, the splendor of the tropics of Alola, and the expansive Galar. Along the way, they meet many new companions, many new friends and new rivals, while also competing in each regional league; as well as toppling evil organizations, and outsmarting the pesky and persistent Team Rocket. However, through all this, Ash's goal remains unchanged: to discover many new Pokémon, and to become regarded as the world's greatest Pokémon Master.</p>\n"
     ]
    },
    {
     "data": {
      "text/html": [
       "<img src=\"https://static.tvmaze.com/uploads/images/medium_landscape/24/60137.jpg\"/>"
      ],
      "text/plain": [
       "<IPython.core.display.Image object>"
      ]
     },
     "metadata": {},
     "output_type": "display_data"
    },
    {
     "name": "stdin",
     "output_type": "stream",
     "text": [
      "What would you like to watch?  pokemon\n",
      "pokemon is not in your watch list... would you like to add it.... y/n? y\n"
     ]
    },
    {
     "name": "stdout",
     "output_type": "stream",
     "text": [
      "Pokémon has 1259 episodes\n",
      "Pokémon has been added to the watchlist!\n",
      ".........\n",
      ".........\n",
      "Now playing Pokémon - I Choose You!\n"
     ]
    },
    {
     "data": {
      "text/html": [
       "<img src=\"https://static.tvmaze.com/uploads/images/medium_landscape/24/60137.jpg\"/>"
      ],
      "text/plain": [
       "<IPython.core.display.Image object>"
      ]
     },
     "metadata": {},
     "output_type": "display_data"
    },
    {
     "name": "stdout",
     "output_type": "stream",
     "text": [
      "Now playing Pokémon Emergency!\n"
     ]
    },
    {
     "data": {
      "text/html": [
       "<img src=\"https://static.tvmaze.com/uploads/images/medium_landscape/24/60145.jpg\"/>"
      ],
      "text/plain": [
       "<IPython.core.display.Image object>"
      ]
     },
     "metadata": {},
     "output_type": "display_data"
    },
    {
     "name": "stdout",
     "output_type": "stream",
     "text": [
      "Now playing Ash Catches a Pokémon\n"
     ]
    },
    {
     "data": {
      "text/html": [
       "<img src=\"https://static.tvmaze.com/uploads/images/medium_landscape/24/60151.jpg\"/>"
      ],
      "text/plain": [
       "<IPython.core.display.Image object>"
      ]
     },
     "metadata": {},
     "output_type": "display_data"
    },
    {
     "name": "stdin",
     "output_type": "stream",
     "text": [
      "Are you still watching?  y\n"
     ]
    },
    {
     "name": "stdout",
     "output_type": "stream",
     "text": [
      "Now playing Challenge of the Samurai\n"
     ]
    },
    {
     "data": {
      "text/html": [
       "<img src=\"https://static.tvmaze.com/uploads/images/medium_landscape/24/60164.jpg\"/>"
      ],
      "text/plain": [
       "<IPython.core.display.Image object>"
      ]
     },
     "metadata": {},
     "output_type": "display_data"
    },
    {
     "name": "stdout",
     "output_type": "stream",
     "text": [
      "Now playing Showdown in Pewter City\n"
     ]
    },
    {
     "data": {
      "text/html": [
       "<img src=\"https://static.tvmaze.com/uploads/images/medium_landscape/24/60172.jpg\"/>"
      ],
      "text/plain": [
       "<IPython.core.display.Image object>"
      ]
     },
     "metadata": {},
     "output_type": "display_data"
    },
    {
     "name": "stdout",
     "output_type": "stream",
     "text": [
      "Now playing Clefairy and the Moon Stone\n"
     ]
    },
    {
     "data": {
      "text/html": [
       "<img src=\"https://static.tvmaze.com/uploads/images/medium_landscape/24/60421.jpg\"/>"
      ],
      "text/plain": [
       "<IPython.core.display.Image object>"
      ]
     },
     "metadata": {},
     "output_type": "display_data"
    }
   ],
   "source": [
    "codeflix.run()"
   ]
  },
  {
   "cell_type": "markdown",
   "metadata": {},
   "source": [
    "## Exercise 1"
   ]
  },
  {
   "cell_type": "markdown",
   "metadata": {},
   "source": [
    "<p>Describe in your own words the following concepts and give an analogy tying to a real-world concept."
   ]
  },
  {
   "cell_type": "markdown",
   "metadata": {},
   "source": [
    "#### Difference between a Class and an Object"
   ]
  },
  {
   "cell_type": "code",
   "execution_count": null,
   "metadata": {},
   "outputs": [],
   "source": []
  },
  {
   "cell_type": "markdown",
   "metadata": {},
   "source": [
    "#### Encapsulation"
   ]
  },
  {
   "cell_type": "code",
   "execution_count": null,
   "metadata": {},
   "outputs": [],
   "source": []
  },
  {
   "cell_type": "markdown",
   "metadata": {},
   "source": [
    "#### Inheritance"
   ]
  },
  {
   "cell_type": "code",
   "execution_count": null,
   "metadata": {},
   "outputs": [],
   "source": []
  },
  {
   "cell_type": "markdown",
   "metadata": {},
   "source": [
    "#### Polymorphism"
   ]
  },
  {
   "cell_type": "code",
   "execution_count": null,
   "metadata": {},
   "outputs": [],
   "source": []
  },
  {
   "cell_type": "markdown",
   "metadata": {},
   "source": [
    "#### Abstraction"
   ]
  },
  {
   "cell_type": "code",
   "execution_count": null,
   "metadata": {},
   "outputs": [],
   "source": []
  },
  {
   "cell_type": "markdown",
   "metadata": {},
   "source": [
    "##  Exercise 2 (Optional):\n",
    "Discuss what other classes, methods, or fields (attributes) we could make to improve our streaming service using these principles. <br> <br>\n",
    "Start making a few of them and see where it leads. Make sure you either write out your thoughts in the below cell  or comment where you added code to the above Classes."
   ]
  },
  {
   "cell_type": "code",
   "execution_count": null,
   "metadata": {},
   "outputs": [],
   "source": []
  }
 ],
 "metadata": {
  "kernelspec": {
   "display_name": "Python 3 (ipykernel)",
   "language": "python",
   "name": "python3"
  },
  "language_info": {
   "codemirror_mode": {
    "name": "ipython",
    "version": 3
   },
   "file_extension": ".py",
   "mimetype": "text/x-python",
   "name": "python",
   "nbconvert_exporter": "python",
   "pygments_lexer": "ipython3",
   "version": "3.9.4"
  }
 },
 "nbformat": 4,
 "nbformat_minor": 4
}
